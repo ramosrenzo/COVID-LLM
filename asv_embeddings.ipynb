{
 "cells": [
  {
   "cell_type": "code",
   "execution_count": 1,
   "id": "19cee3cf-63e1-4138-b0a0-f161fe56f37d",
   "metadata": {},
   "outputs": [
    {
     "name": "stderr",
     "output_type": "stream",
     "text": [
      "/home/c5truong/.conda/envs/aam/lib/python3.9/site-packages/tqdm/auto.py:21: TqdmWarning: IProgress not found. Please update jupyter and ipywidgets. See https://ipywidgets.readthedocs.io/en/stable/user_install.html\n",
      "  from .autonotebook import tqdm as notebook_tqdm\n"
     ]
    }
   ],
   "source": [
    "import torch\n",
    "from transformers import AutoTokenizer, AutoModel, BertConfig, logging\n",
    "import numpy as np\n",
    "from tqdm import tqdm\n",
    "from biom import load_table, Table"
   ]
  },
  {
   "cell_type": "code",
   "execution_count": 2,
   "id": "30ff96c2-1f85-45ce-b6b8-90de101602a0",
   "metadata": {},
   "outputs": [],
   "source": [
    "device = \"cuda\" if torch.cuda.is_available() else \"cpu\""
   ]
  },
  {
   "cell_type": "code",
   "execution_count": 3,
   "id": "dfab66c5-0283-413b-84f3-afefbbbeaeee",
   "metadata": {},
   "outputs": [
    {
     "data": {
      "text/plain": [
       "array(['AAAAAGAGAGATGAGATTGAGGCTGGGAAAAGTTACTGTAGCCGACGTTTTGGCGGCGCAACCTGTGACGACAAATCTGCTCAAATTTATGCGCGCTTCGATAAAAATGATTGGCGTATCCAACCTGCAGAGTTTTATCGCTTCCATGAC',\n",
       "       'AAAAATGATTGGCGTATCCAACCTGCAGAGTTTTATCGCTTCCATGACGCAGAAGTTAACACTTTCGGATATTTCTGATGAGTCGAAAAATTATCTTGATAAAGCAGGAATTACTACTGCTTGTTTACGAATTAAATCGAAGTGGACTGC',\n",
       "       'AAAATGATTGGCGTATCCAACCTGCAGAGTTTTATCGCTTCCATGACGCAGAAGTTAACACTTTCGGATATTTCTGATGAGTCGAAAAATTATCTTGATAAAGCAGGAATTACTACTGCTTGTTTACGAATTAAATCGAAGTGGACTGCT',\n",
       "       ...,\n",
       "       'TTTTCTCATTTTCCGCCAGCAGTCCACTTCGATTTAATTCGTAAACAAGCAGTAGTAATTCCTGCTTTATCAAGATAATTTTTCGACTCATCAGAAATATCCGAAAGTGTTAACTTCTGCGTCATGGAAGCGATAAAACTCTGCAGGTTG',\n",
       "       'TTTTGGCGGCGCAACCTGTGACGACAAATCTGCTCAAATTTATGCGCGCTTCGATAAAAATGATTGGCGTATCCAACCTGCAGAGTTTTATCGCTTCCATGACGCAGAAGTTAACACTTTCGGATATTTCTGATGAGTCGAAAAATTATC',\n",
       "       'TTTTTCGACTCATCAGAAATATCCGAAAGTGTTAACTTCTGCGTCATGGAAGCGATAAAACTCTGCAGGTTGGATACGCCAATCATTTTTATCGAAGCGCGCATAAATTTGAGCAGATTTGTCGTCACAGGTTGCGCCGCCAAAACGTCG'],\n",
       "      dtype='<U150')"
      ]
     },
     "execution_count": 3,
     "metadata": {},
     "output_type": "execute_result"
    }
   ],
   "source": [
    "table = load_table(\"data/input/merged_biom_table.biom\")\n",
    "table.ids(axis=\"observation\")"
   ]
  },
  {
   "cell_type": "code",
   "execution_count": 11,
   "id": "77befdb5-fd28-42e9-807a-8377e9462ce4",
   "metadata": {},
   "outputs": [
    {
     "name": "stderr",
     "output_type": "stream",
     "text": [
      "The argument `trust_remote_code` is to be used with Auto classes. It has no effect here and is ignored.\n",
      "Some weights of the model checkpoint at zhihan1996/DNA_bert_5 were not used when initializing BertModel: ['cls.predictions.decoder.bias', 'cls.predictions.transform.LayerNorm.weight', 'cls.predictions.transform.dense.bias', 'cls.predictions.transform.LayerNorm.bias', 'cls.predictions.transform.dense.weight', 'cls.predictions.decoder.weight', 'cls.predictions.bias']\n",
      "- This IS expected if you are initializing BertModel from the checkpoint of a model trained on another task or with another architecture (e.g. initializing a BertForSequenceClassification model from a BertForPreTraining model).\n",
      "- This IS NOT expected if you are initializing BertModel from the checkpoint of a model that you expect to be exactly identical (initializing a BertForSequenceClassification model from a BertForSequenceClassification model).\n"
     ]
    }
   ],
   "source": [
    "config = BertConfig.from_pretrained('https://raw.githubusercontent.com/jerryji1993/DNABERT/master/src/transformers/dnabert-config/bert-config-5/config.json', trust_remote_code=True)\n",
    "tokenizer = AutoTokenizer.from_pretrained(\"zhihan1996/DNA_bert_5\", trust_remote_code=True)\n",
    "model = AutoModel.from_pretrained(\"zhihan1996/DNA_bert_5\", trust_remote_code=True, config=config).to(device)\n",
    "\n",
    "def calc_embedding_mean(asvs):\n",
    "    '''\n",
    "    input: asv\n",
    "    returns: [B, A, E]\n",
    "    '''\n",
    "    inputs = [tokenizer(asv, return_tensors = 'pt')[\"input_ids\"].to(device) for asv in asvs]\n",
    "    hidden_states = [model(input).last_hidden_state for input in inputs] # shape: [B x A, N, E]\n",
    "    embedding_mean = [torch.mean(byte_pair, dim=1) for byte_pair in hidden_states] # embedding with mean pooling\n",
    "    return torch.concat(embedding_mean, dim=0).cpu().detach().numpy()"
   ]
  },
  {
   "cell_type": "code",
   "execution_count": 12,
   "id": "501c2fad-468f-491c-b458-14702369359e",
   "metadata": {},
   "outputs": [
    {
     "name": "stderr",
     "output_type": "stream",
     "text": [
      "100%|██████████| 61974/61974 [11:25<00:00, 90.46it/s]\n"
     ]
    }
   ],
   "source": [
    "embeddings = []\n",
    "for asv in tqdm(table.ids(axis=\"observation\")):\n",
    "    embeddings.append(calc_embedding_mean([asv]))\n",
    "embeddings = np.array(embeddings).reshape((61974, 768))"
   ]
  },
  {
   "cell_type": "code",
   "execution_count": 13,
   "id": "30e6c52f-90ea-427f-ad05-510a0c16beef",
   "metadata": {},
   "outputs": [],
   "source": [
    "# run if shape (61974, 1, 768)\n",
    "embeddings = np.squeeze(embeddings, axis=1)"
   ]
  },
  {
   "cell_type": "code",
   "execution_count": 14,
   "id": "065dc5cb-ba80-4d6d-b086-f5b0a5feaf29",
   "metadata": {},
   "outputs": [
    {
     "data": {
      "text/plain": [
       "(61974, 768)"
      ]
     },
     "execution_count": 14,
     "metadata": {},
     "output_type": "execute_result"
    }
   ],
   "source": [
    "embeddings.shape # should be (61974, 768)"
   ]
  },
  {
   "cell_type": "code",
   "execution_count": 15,
   "id": "fe205073-28f9-45a9-a761-786079a23baa",
   "metadata": {},
   "outputs": [
    {
     "data": {
      "text/plain": [
       "array([[ 0.09152081, -0.17413566,  1.4005626 , ...,  0.2815851 ,\n",
       "         0.24107593,  0.25032005],\n",
       "       [ 0.09152081, -0.17413566,  1.4005626 , ...,  0.2815851 ,\n",
       "         0.24107593,  0.25032005],\n",
       "       [ 0.09152081, -0.17413566,  1.4005626 , ...,  0.2815851 ,\n",
       "         0.24107593,  0.25032005],\n",
       "       ...,\n",
       "       [ 0.09152081, -0.17413566,  1.4005626 , ...,  0.2815851 ,\n",
       "         0.24107593,  0.25032005],\n",
       "       [ 0.09152081, -0.17413566,  1.4005626 , ...,  0.2815851 ,\n",
       "         0.24107593,  0.25032005],\n",
       "       [ 0.09152081, -0.17413566,  1.4005626 , ...,  0.2815851 ,\n",
       "         0.24107593,  0.25032005]], dtype=float32)"
      ]
     },
     "execution_count": 15,
     "metadata": {},
     "output_type": "execute_result"
    }
   ],
   "source": [
    "embeddings"
   ]
  },
  {
   "cell_type": "code",
   "execution_count": 16,
   "id": "49c87c82-2379-49ce-91a5-22d2b0b4b10e",
   "metadata": {},
   "outputs": [],
   "source": [
    "np.save(\"asv_embeddings.txt\", embeddings)"
   ]
  },
  {
   "cell_type": "code",
   "execution_count": null,
   "id": "309c61ac-09fd-438a-8ff5-6d894fe526a7",
   "metadata": {},
   "outputs": [],
   "source": []
  }
 ],
 "metadata": {
  "kernelspec": {
   "display_name": "aam",
   "language": "python",
   "name": "aam"
  },
  "language_info": {
   "codemirror_mode": {
    "name": "ipython",
    "version": 3
   },
   "file_extension": ".py",
   "mimetype": "text/x-python",
   "name": "python",
   "nbconvert_exporter": "python",
   "pygments_lexer": "ipython3",
   "version": "3.9.21"
  }
 },
 "nbformat": 4,
 "nbformat_minor": 5
}
