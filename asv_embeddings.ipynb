{
 "cells": [
  {
   "cell_type": "code",
   "execution_count": 1,
   "id": "50a92a52-53fc-4bcc-88fb-864a2fe82a64",
   "metadata": {},
   "outputs": [
    {
     "name": "stderr",
     "output_type": "stream",
     "text": [
      "/home/kan019/.conda/envs/aam/lib/python3.9/site-packages/tqdm/auto.py:21: TqdmWarning: IProgress not found. Please update jupyter and ipywidgets. See https://ipywidgets.readthedocs.io/en/stable/user_install.html\n",
      "  from .autonotebook import tqdm as notebook_tqdm\n"
     ]
    }
   ],
   "source": [
    "import torch\n",
    "from transformers import AutoTokenizer, AutoModel, BertConfig, logging\n",
    "import numpy as np\n",
    "from tqdm import tqdm\n",
    "from biom import load_table, Table"
   ]
  },
  {
   "cell_type": "code",
   "execution_count": 2,
   "id": "f4160b34-9322-4a75-b40b-3f43f73fbeb9",
   "metadata": {},
   "outputs": [],
   "source": [
    "device = \"cuda\" if torch.cuda.is_available() else \"cpu\""
   ]
  },
  {
   "cell_type": "code",
   "execution_count": 3,
   "id": "919f7838-b123-4a48-bda7-f3bb32bb5e34",
   "metadata": {},
   "outputs": [
    {
     "data": {
      "text/plain": [
       "array(['AAAAAGAGAGATGAGATTGAGGCTGGGAAAAGTTACTGTAGCCGACGTTTTGGCGGCGCAACCTGTGACGACAAATCTGCTCAAATTTATGCGCGCTTCGATAAAAATGATTGGCGTATCCAACCTGCAGAGTTTTATCGCTTCCATGAC',\n",
       "       'AAAAATGATTGGCGTATCCAACCTGCAGAGTTTTATCGCTTCCATGACGCAGAAGTTAACACTTTCGGATATTTCTGATGAGTCGAAAAATTATCTTGATAAAGCAGGAATTACTACTGCTTGTTTACGAATTAAATCGAAGTGGACTGC',\n",
       "       'AAAATGATTGGCGTATCCAACCTGCAGAGTTTTATCGCTTCCATGACGCAGAAGTTAACACTTTCGGATATTTCTGATGAGTCGAAAAATTATCTTGATAAAGCAGGAATTACTACTGCTTGTTTACGAATTAAATCGAAGTGGACTGCT',\n",
       "       ...,\n",
       "       'TTTTCTCATTTTCCGCCAGCAGTCCACTTCGATTTAATTCGTAAACAAGCAGTAGTAATTCCTGCTTTATCAAGATAATTTTTCGACTCATCAGAAATATCCGAAAGTGTTAACTTCTGCGTCATGGAAGCGATAAAACTCTGCAGGTTG',\n",
       "       'TTTTGGCGGCGCAACCTGTGACGACAAATCTGCTCAAATTTATGCGCGCTTCGATAAAAATGATTGGCGTATCCAACCTGCAGAGTTTTATCGCTTCCATGACGCAGAAGTTAACACTTTCGGATATTTCTGATGAGTCGAAAAATTATC',\n",
       "       'TTTTTCGACTCATCAGAAATATCCGAAAGTGTTAACTTCTGCGTCATGGAAGCGATAAAACTCTGCAGGTTGGATACGCCAATCATTTTTATCGAAGCGCGCATAAATTTGAGCAGATTTGTCGTCACAGGTTGCGCCGCCAAAACGTCG'],\n",
       "      dtype='<U150')"
      ]
     },
     "execution_count": 3,
     "metadata": {},
     "output_type": "execute_result"
    }
   ],
   "source": [
    "table = load_table(\"data/input/merged_biom_table.biom\")\n",
    "table.ids(axis=\"observation\")"
   ]
  },
  {
   "cell_type": "code",
   "execution_count": 4,
   "id": "4cc68938-fa41-4019-ae27-acbe8457e366",
   "metadata": {},
   "outputs": [],
   "source": [
    "tokenizer = AutoTokenizer.from_pretrained(\"zhihan1996/DNABERT-2-117M\", trust_remote_code=True)\n",
    "config = BertConfig.from_pretrained(\"zhihan1996/DNABERT-2-117M\")\n",
    "model = AutoModel.from_pretrained(\"zhihan1996/DNABERT-2-117M\", trust_remote_code=True, config=config).to(device)\n",
    "\n",
    "def calc_embedding_mean(asv):\n",
    "    '''\n",
    "    input: asv\n",
    "    returns: [B, A, E]\n",
    "    '''\n",
    "    inputs = [tokenizer(asv, return_tensors = 'pt')[\"input_ids\"].to(device) for token in tokens]\n",
    "    hidden_states = [model(input) for input in inputs] # shape: [B x A, N, E]\n",
    "    embedding_mean = [torch.mean(byte_pair, dim=1) for byte_pair, class_token in hidden_states] # embedding with mean pooling\n",
    "    return torch.concat(embedding_mean, dim=0).cpu().detach().numpy()"
   ]
  },
  {
   "cell_type": "code",
   "execution_count": 6,
   "id": "343201ca-8a28-464a-8700-4e3a619ca3da",
   "metadata": {},
   "outputs": [
    {
     "name": "stderr",
     "output_type": "stream",
     "text": [
      "100%|██████████| 61974/61974 [12:08<00:00, 85.08it/s]\n"
     ]
    }
   ],
   "source": [
    "embeddings = []\n",
    "for asv in tqdm(table.ids(axis=\"observation\")):\n",
    "    embeddings.append(calc_embedding_mean([asv]))\n",
    "embeddings = np.array(embeddings).reshape((61974, 768))"
   ]
  },
  {
   "cell_type": "code",
   "execution_count": 26,
   "id": "d67a5b3e-85dd-4389-b59f-8e4e7ee7a4e2",
   "metadata": {},
   "outputs": [],
   "source": [
    "# run if shape (61974, 1, 768)\n",
    "embeddings = np.squeeze(embeddings, axis=1)"
   ]
  },
  {
   "cell_type": "code",
   "execution_count": 27,
   "id": "289ec9d6-6f6c-4e23-aca7-a33fe5935d12",
   "metadata": {},
   "outputs": [
    {
     "data": {
      "text/plain": [
       "(61974, 768)"
      ]
     },
     "execution_count": 27,
     "metadata": {},
     "output_type": "execute_result"
    }
   ],
   "source": [
    "embeddings.shape # should be (61974, 768)"
   ]
  },
  {
   "cell_type": "code",
   "execution_count": 29,
   "id": "d9cdca11-e8ab-4824-b83c-7531ab39aefe",
   "metadata": {},
   "outputs": [
    {
     "data": {
      "text/plain": [
       "array([[-0.08678621,  0.08558369,  0.09969272, ...,  0.04015661,\n",
       "         0.05117398,  0.07039835],\n",
       "       [-0.04607328, -0.0122479 , -0.00292744, ...,  0.0454605 ,\n",
       "         0.14943917,  0.07452027],\n",
       "       [-0.04895976, -0.03211617,  0.03563015, ...,  0.02124203,\n",
       "         0.14967498,  0.0575194 ],\n",
       "       ...,\n",
       "       [-0.01771752, -0.0191946 ,  0.00114739, ...,  0.08808845,\n",
       "         0.17157225,  0.0335262 ],\n",
       "       [-0.0484022 ,  0.11651459,  0.04410456, ...,  0.06006808,\n",
       "         0.05627226,  0.07800303],\n",
       "       [-0.04873918,  0.14298637,  0.08974645, ...,  0.04729619,\n",
       "         0.1111041 ,  0.07895355]], dtype=float32)"
      ]
     },
     "execution_count": 29,
     "metadata": {},
     "output_type": "execute_result"
    }
   ],
   "source": [
    "embeddings"
   ]
  },
  {
   "cell_type": "code",
   "execution_count": 30,
   "id": "48606da0-e917-463c-99b2-7aa7f4ecaad8",
   "metadata": {},
   "outputs": [],
   "source": [
    "np.save(\"asv_embeddings.txt\", embeddings)"
   ]
  }
 ],
 "metadata": {
  "kernelspec": {
   "display_name": "aam",
   "language": "python",
   "name": "aam"
  },
  "language_info": {
   "codemirror_mode": {
    "name": "ipython",
    "version": 3
   },
   "file_extension": ".py",
   "mimetype": "text/x-python",
   "name": "python",
   "nbconvert_exporter": "python",
   "pygments_lexer": "ipython3",
   "version": "3.9.21"
  }
 },
 "nbformat": 4,
 "nbformat_minor": 5
}
