{
 "cells": [
  {
   "cell_type": "code",
   "execution_count": null,
   "id": "50a92a52-53fc-4bcc-88fb-864a2fe82a64",
   "metadata": {},
   "outputs": [],
   "source": [
    "import torch\n",
    "from transformers import AutoTokenizer, AutoModel, BertConfig, logging\n",
    "import numpy as np\n",
    "from tqdm import tqdm\n",
    "from biom import load_table, Table"
   ]
  },
  {
   "cell_type": "code",
   "execution_count": null,
   "id": "f4160b34-9322-4a75-b40b-3f43f73fbeb9",
   "metadata": {},
   "outputs": [],
   "source": [
    "device = \"cuda\" if torch.cuda.is_available() else \"cpu\""
   ]
  },
  {
   "cell_type": "code",
   "execution_count": null,
   "id": "919f7838-b123-4a48-bda7-f3bb32bb5e34",
   "metadata": {
    "scrolled": true
   },
   "outputs": [],
   "source": [
    "table = load_table(\"data/input/merged_biom_table.biom\")\n",
    "table.ids(axis=\"observation\")"
   ]
  },
  {
   "cell_type": "code",
   "execution_count": null,
   "id": "4bedcb73-cf04-4712-9cd2-8bedd0a53b26",
   "metadata": {},
   "outputs": [],
   "source": [
    "config = BertConfig.from_pretrained(\"PoetschLab/GROVER\")\n",
    "tokenizer = AutoTokenizer.from_pretrained(\"PoetschLab/GROVER\")\n",
    "model = AutoModel.from_pretrained(\"PoetschLab/GROVER\", config=config).to(device)\n",
    "\n",
    "def calc_embedding_mean(asvs):\n",
    "    '''\n",
    "    input: asv\n",
    "    returns: [B, A, E]\n",
    "    '''\n",
    "    inputs = [tokenizer(asv, return_tensors = 'pt')[\"input_ids\"].to(device) for asv in asvs]\n",
    "    hidden_states = [np.mean(model(input)[0].cpu().detach().numpy(), axis=1) for input in inputs] # shape: [B x A, N, E]\n",
    "    return np.vstack(hidden_states)"
   ]
  },
  {
   "cell_type": "code",
   "execution_count": null,
   "id": "31e09ea2-0966-45d1-8a5a-16e0199f79f8",
   "metadata": {},
   "outputs": [],
   "source": [
    "embeddings = calc_embedding_mean(table.ids(axis=\"observation\"))\n",
    "print(embeddings.shape)\n",
    "np.save(\"asv_embeddings.npy\", embeddings)\n",
    "np.save(\"asv_embedding_ids.npy\", table.ids(axis=\"observation\"))"
   ]
  }
 ],
 "metadata": {
  "kernelspec": {
   "display_name": "Python (covid_llms)",
   "language": "python",
   "name": "covid_llms"
  },
  "language_info": {
   "codemirror_mode": {
    "name": "ipython",
    "version": 3
   },
   "file_extension": ".py",
   "mimetype": "text/x-python",
   "name": "python",
   "nbconvert_exporter": "python",
   "pygments_lexer": "ipython3",
   "version": "3.9.21"
  }
 },
 "nbformat": 4,
 "nbformat_minor": 5
}
